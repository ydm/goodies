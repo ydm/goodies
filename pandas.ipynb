{
 "cells": [
  {
   "cell_type": "code",
   "execution_count": 1,
   "id": "gross-encoding",
   "metadata": {},
   "outputs": [],
   "source": [
    "import pandas as pd"
   ]
  },
  {
   "cell_type": "code",
   "execution_count": 2,
   "id": "compliant-chick",
   "metadata": {},
   "outputs": [],
   "source": [
    "xs = pd.read_parquet('...')"
   ]
  },
  {
   "cell_type": "markdown",
   "id": "afraid-investigation",
   "metadata": {},
   "source": [
    "##### Parse a column to datetime objects"
   ]
  },
  {
   "cell_type": "code",
   "execution_count": 3,
   "id": "medical-watch",
   "metadata": {},
   "outputs": [],
   "source": [
    "xs['date'] = pd.to_datetime(xs['date'])"
   ]
  },
  {
   "cell_type": "markdown",
   "id": "inside-merit",
   "metadata": {},
   "source": [
    "##### Select by date"
   ]
  },
  {
   "cell_type": "code",
   "execution_count": 4,
   "id": "terminal-yield",
   "metadata": {},
   "outputs": [],
   "source": [
    "day = xs[xs['date'] == '2021-01-04'].copy()"
   ]
  }
 ],
 "metadata": {
  "kernelspec": {
   "display_name": "Python 3",
   "language": "python",
   "name": "python3"
  },
  "language_info": {
   "codemirror_mode": {
    "name": "ipython",
    "version": 3
   },
   "file_extension": ".py",
   "mimetype": "text/x-python",
   "name": "python",
   "nbconvert_exporter": "python",
   "pygments_lexer": "ipython3",
   "version": "3.7.9"
  }
 },
 "nbformat": 4,
 "nbformat_minor": 5
}
