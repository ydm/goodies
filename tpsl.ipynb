{
 "cells": [
  {
   "cell_type": "code",
   "execution_count": 1,
   "id": "4f4c47c3-b659-4bb0-8c37-b027d315bb0f",
   "metadata": {},
   "outputs": [],
   "source": [
    "import pandas as pd"
   ]
  },
  {
   "cell_type": "code",
   "execution_count": 2,
   "id": "311bf067-4555-4028-9656-75ae18ee24dd",
   "metadata": {},
   "outputs": [],
   "source": [
    "def TPSL(xs):\n",
    "    '''\n",
    "    Expects:\n",
    "      - LongTP\n",
    "      - LongSL\n",
    "\n",
    "    Creates:\n",
    "      - LongTPSteps\n",
    "      - LongSLSteps\n",
    "    '''\n",
    "    N = 100\n",
    "\n",
    "    shadow = pd.DataFrame(index=xs.index)\n",
    "    shadow['SLHit'] = False\n",
    "    shadow['U1Hit'] = False\n",
    "    xs['LongSLSteps'] = N\n",
    "    xs['LongTPSteps'] = N\n",
    "\n",
    "    for i in range(1, N+1):\n",
    "        shadow['SLHit'] |= (xs.LongSL >= xs.Low.shift(-i))\n",
    "        xs.loc[shadow['SLHit'], 'LongSLSteps'] = xs.LongSLSteps.clip(upper=i)\n",
    "\n",
    "        shadow['U1Hit'] |= (xs.LongTP <= xs.High.shift(-i))\n",
    "        xs.loc[shadow.U1Hit, 'LongTPSteps'] = xs.LongTPSteps.clip(upper=i)\n",
    "\n",
    "    # Loss.\n",
    "    xs['PNL'] = 1 / (xs.LongSL - xs.Close)\n",
    "\n",
    "    # Profit.\n",
    "    mask = xs.LongTPSteps == xs[['LongSLSteps', 'LongTPSteps']].min(axis=1)\n",
    "    xs.loc[mask, 'PNL'] = 1 / (xs.LongTP - xs.Close)\n",
    "\n",
    "    return xs"
   ]
  }
 ],
 "metadata": {
  "kernelspec": {
   "display_name": "Python 3",
   "language": "python",
   "name": "python3"
  },
  "language_info": {
   "codemirror_mode": {
    "name": "ipython",
    "version": 3
   },
   "file_extension": ".py",
   "mimetype": "text/x-python",
   "name": "python",
   "nbconvert_exporter": "python",
   "pygments_lexer": "ipython3",
   "version": "3.9.5"
  }
 },
 "nbformat": 4,
 "nbformat_minor": 5
}
