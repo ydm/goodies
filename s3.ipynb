{
 "cells": [
  {
   "cell_type": "code",
   "execution_count": null,
   "id": "varied-reverse",
   "metadata": {},
   "outputs": [],
   "source": [
    "import s3"
   ]
  },
  {
   "cell_type": "code",
   "execution_count": null,
   "id": "wireless-southeast",
   "metadata": {},
   "outputs": [],
   "source": [
    "s3.default_profile = 'profile'\n",
    "remote = 's3bucket/directory/'"
   ]
  },
  {
   "cell_type": "code",
   "execution_count": null,
   "id": "medical-cartridge",
   "metadata": {},
   "outputs": [],
   "source": [
    "# Read data.\n",
    "\n",
    "data = s3.read(remote, parse_dates=['date'])"
   ]
  },
  {
   "cell_type": "code",
   "execution_count": null,
   "id": "flush-chemistry",
   "metadata": {},
   "outputs": [],
   "source": [
    "# Read a matching partition.\n",
    "\n",
    "path = s3.match_partition(remote, '2021-01-01')\n",
    "s3.read(path, parse_dates=['date'])"
   ]
  },
  {
   "cell_type": "code",
   "execution_count": null,
   "id": "final-extension",
   "metadata": {
    "scrolled": true
   },
   "outputs": [],
   "source": [
    "# Get latest partition.\n",
    "\n",
    "path = s3.get_latest_partition(remote)\n",
    "data = s3.read(path, parse_dates=['date'])\n",
    "data.head()"
   ]
  },
  {
   "cell_type": "code",
   "execution_count": null,
   "id": "abstract-berkeley",
   "metadata": {},
   "outputs": [],
   "source": [
    "# Write a new day (data taken from) yesterday.\n",
    "\n",
    "from datetime import timedelta\n",
    "data['date'] = data['date'][0] + timedelta(days=1)\n",
    "\n",
    "s3.write(data, remote)"
   ]
  },
  {
   "cell_type": "code",
   "execution_count": null,
   "id": "alternate-flooring",
   "metadata": {},
   "outputs": [],
   "source": [
    "# Delete a matching partition.\n",
    "\n",
    "partition = s3.match_partition(remote, '2021-01-01')\n",
    "s3.delete_object(partition)"
   ]
  }
 ],
 "metadata": {
  "kernelspec": {
   "display_name": "Python 3",
   "language": "python",
   "name": "python3"
  },
  "language_info": {
   "codemirror_mode": {
    "name": "ipython",
    "version": 3
   },
   "file_extension": ".py",
   "mimetype": "text/x-python",
   "name": "python",
   "nbconvert_exporter": "python",
   "pygments_lexer": "ipython3",
   "version": "3.7.9"
  }
 },
 "nbformat": 4,
 "nbformat_minor": 5
}
