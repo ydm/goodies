{
 "cells": [
  {
   "cell_type": "code",
   "execution_count": 1,
   "id": "varied-reverse",
   "metadata": {},
   "outputs": [],
   "source": [
    "import os\n",
    "import re\n",
    "\n",
    "import awswrangler as wr\n",
    "import boto3\n",
    "import pandas as pd"
   ]
  },
  {
   "cell_type": "code",
   "execution_count": 2,
   "id": "starting-interstate",
   "metadata": {},
   "outputs": [],
   "source": [
    "def arguments(*segments, defaults=None, **kwargs):\n",
    "    path = os.path.join(*segments)\n",
    "    if not path.startswith('s3://'):\n",
    "        path = f's3://{path}'\n",
    "\n",
    "    defaults = defaults or {}\n",
    "    if 'boto3_session' not in kwargs and 'profile_name' in kwargs:\n",
    "        profile_name = kwargs.pop('profile_name')\n",
    "        defaults['boto3_session'] = boto3.Session(profile_name=profile_name)\n",
    "    defaults.update(kwargs)\n",
    "\n",
    "    return path, defaults"
   ]
  },
  {
   "cell_type": "code",
   "execution_count": 3,
   "id": "veterinary-behalf",
   "metadata": {},
   "outputs": [],
   "source": [
    "def read(path, **kwargs):\n",
    "    defaults = {\n",
    "        'ignore_index': False,\n",
    "        'dataset': True,\n",
    "    }\n",
    "    parse_dates = kwargs.pop('parse_dates', [])\n",
    "    path, kwargs = arguments(path, defaults=defaults, **kwargs)\n",
    "    data = wr.s3.read_parquet(path, **kwargs)\n",
    "    for column in parse_dates:\n",
    "        data[column] = pd.to_datetime(data[column])\n",
    "    return data"
   ]
  },
  {
   "cell_type": "code",
   "execution_count": 4,
   "id": "focal-simon",
   "metadata": {},
   "outputs": [],
   "source": [
    "def read_partition(path, date, **kwargs):\n",
    "    partition = pd.to_datetime(date).strftime('date=%Y-%m-%d %H:%M:%S')\n",
    "    path, kwargs = arguments(path, partition, **kwargs)\n",
    "    return read(path, **kwargs)"
   ]
  },
  {
   "cell_type": "code",
   "execution_count": 5,
   "id": "nuclear-aurora",
   "metadata": {},
   "outputs": [],
   "source": [
    "def get_latest_partition(prefix, partition_key='date', **kwargs):\n",
    "    path, kwargs = arguments(prefix, **kwargs)\n",
    "    xs = wr.s3.list_directories(path, **kwargs)\n",
    "\n",
    "    def key(x):\n",
    "        return pd.to_datetime(re.search(f'{partition_key}=([^/]+)', x).group(1))\n",
    "\n",
    "    ys = sorted(xs, key=key)\n",
    "    if ys:\n",
    "        return ys[-1]"
   ]
  },
  {
   "cell_type": "code",
   "execution_count": 6,
   "id": "current-receptor",
   "metadata": {},
   "outputs": [],
   "source": [
    "def write(data, path, **kwargs):\n",
    "    defaults = {\n",
    "        'index': True,\n",
    "        'compression': 'gzip',\n",
    "        'dataset': True,\n",
    "        'use_threads': True,\n",
    "    }\n",
    "    path, kwargs = arguments(path, defaults=defaults, **kwargs)\n",
    "    # Partition by date by default.\n",
    "    if 'partition_cols' not in kwargs:\n",
    "        dates = ['date']  # ['date', 'datetime', 'time']\n",
    "        cols = [c for c in dates if c in data.columns][:1]\n",
    "        if cols:\n",
    "            kwargs['partition_cols'] = cols\n",
    "    return wr.s3.to_parquet(data, path, **kwargs)"
   ]
  },
  {
   "cell_type": "markdown",
   "id": "architectural-belle",
   "metadata": {},
   "source": [
    "#### Demonstration"
   ]
  },
  {
   "cell_type": "code",
   "execution_count": null,
   "id": "final-extension",
   "metadata": {},
   "outputs": [],
   "source": [
    "# Get latest partition.\n",
    "\n",
    "path = get_latest_partition('bucketname/directory/', profile_name='profile')\n",
    "latest = read(path, profile_name='profile', parse_dates=['date'])"
   ]
  },
  {
   "cell_type": "code",
   "execution_count": null,
   "id": "abstract-berkeley",
   "metadata": {},
   "outputs": [],
   "source": [
    "# Write a new day (data taken from) yesterday.\n",
    "\n",
    "from datetime import timedelta\n",
    "latest['date'] = latest['date'][0] + timedelta(days=1)\n",
    "\n",
    "write(latest, 'bucketname/directory/', profile_name='profile')"
   ]
  }
 ],
 "metadata": {
  "kernelspec": {
   "display_name": "Python 3",
   "language": "python",
   "name": "python3"
  },
  "language_info": {
   "codemirror_mode": {
    "name": "ipython",
    "version": 3
   },
   "file_extension": ".py",
   "mimetype": "text/x-python",
   "name": "python",
   "nbconvert_exporter": "python",
   "pygments_lexer": "ipython3",
   "version": "3.7.9"
  }
 },
 "nbformat": 4,
 "nbformat_minor": 5
}
